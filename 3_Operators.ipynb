{
  "nbformat": 4,
  "nbformat_minor": 0,
  "metadata": {
    "colab": {
      "provenance": [],
      "authorship_tag": "ABX9TyMHV6VhVozOlGwULTJ61jek",
      "include_colab_link": true
    },
    "kernelspec": {
      "name": "python3",
      "display_name": "Python 3"
    },
    "language_info": {
      "name": "python"
    }
  },
  "cells": [
    {
      "cell_type": "markdown",
      "metadata": {
        "id": "view-in-github",
        "colab_type": "text"
      },
      "source": [
        "<a href=\"https://colab.research.google.com/github/01fe21bec205/Python_for_ML/blob/main/3_Operators.ipynb\" target=\"_parent\"><img src=\"https://colab.research.google.com/assets/colab-badge.svg\" alt=\"Open In Colab\"/></a>"
      ]
    },
    {
      "cell_type": "markdown",
      "source": [
        "Different kind of operators in python are:\n",
        "1. Arithmetic operators\n",
        "2. Logical operators\n",
        "3. Comparison operators\n",
        "4. Bitwise operators\n",
        "5. Assignment operators\n",
        "6. Identity & Membership operators"
      ],
      "metadata": {
        "id": "kmkZSN4E11kI"
      }
    },
    {
      "cell_type": "markdown",
      "source": [
        "## ***ARITHMETIC OPERATORS***"
      ],
      "metadata": {
        "id": "Zj_16g7e4KYq"
      }
    },
    {
      "cell_type": "code",
      "execution_count": null,
      "metadata": {
        "colab": {
          "base_uri": "https://localhost:8080/"
        },
        "id": "z_Zo9HNmxaOL",
        "outputId": "a9658af0-9a37-4907-b826-a5958e692419"
      },
      "outputs": [
        {
          "output_type": "stream",
          "name": "stdout",
          "text": [
            "enter a value100\n",
            "enter b value3\n",
            "103\n",
            "97\n",
            "300\n",
            "33.333333333333336\n",
            "33\n",
            "1\n",
            "1000000\n"
          ]
        }
      ],
      "source": [
        "#a=100\n",
        "#b=3\n",
        "a=int(input(\"enter a value\"))\n",
        "b=int(input(\"enter b value\"))\n",
        "sum=a+b\n",
        "print(sum)\n",
        "diff=a-b\n",
        "print(diff)\n",
        "prod=a*b\n",
        "print(prod)\n",
        "div=a/b\n",
        "print(div)\n",
        "fdiv=a//b\n",
        "print(fdiv)\n",
        "mod=a%b\n",
        "print(mod)\n",
        "pow=a**b\n",
        "print(pow)"
      ]
    },
    {
      "cell_type": "markdown",
      "source": [
        "## ***LOGICAL & COMPARISON OPERATORS***"
      ],
      "metadata": {
        "id": "ef0b1jQG4Pzr"
      }
    },
    {
      "cell_type": "code",
      "source": [
        "#age=input(\"enter ur age\")\n",
        "age=int(input(\"enter ur age\"))\n",
        "print(type(age))\n",
        "print(age>18 and age<78)"
      ],
      "metadata": {
        "colab": {
          "base_uri": "https://localhost:8080/"
        },
        "id": "RV2iwELB2eJ8",
        "outputId": "25df08f8-241d-4a32-f20e-41c489519c58"
      },
      "execution_count": null,
      "outputs": [
        {
          "output_type": "stream",
          "name": "stdout",
          "text": [
            "enter ur age80\n",
            "<class 'int'>\n",
            "False\n"
          ]
        }
      ]
    },
    {
      "cell_type": "markdown",
      "source": [
        "## ***BITWISE OPERATORS***"
      ],
      "metadata": {
        "id": "r4Ury5Ny8NhT"
      }
    },
    {
      "cell_type": "code",
      "source": [
        "print(8 & 12) #and\n",
        "print(0xF & 0xE)"
      ],
      "metadata": {
        "colab": {
          "base_uri": "https://localhost:8080/"
        },
        "id": "k1OUfS1M69xx",
        "outputId": "45dc88a5-e5db-4a1a-c288-f0b878e38323"
      },
      "execution_count": null,
      "outputs": [
        {
          "output_type": "stream",
          "name": "stdout",
          "text": [
            "8\n",
            "14\n"
          ]
        }
      ]
    },
    {
      "cell_type": "code",
      "source": [
        "print(8 | 12)  #or\n",
        "print(0xF | 0xE)"
      ],
      "metadata": {
        "colab": {
          "base_uri": "https://localhost:8080/"
        },
        "id": "sqRlfBnR9c5M",
        "outputId": "af6012ab-82fd-4a11-bb1e-30852db50b24"
      },
      "execution_count": null,
      "outputs": [
        {
          "output_type": "stream",
          "name": "stdout",
          "text": [
            "12\n",
            "15\n"
          ]
        }
      ]
    },
    {
      "cell_type": "code",
      "source": [
        "print(8 ^ 12)   #xor\n",
        "print(0xF ^ 0xE)"
      ],
      "metadata": {
        "colab": {
          "base_uri": "https://localhost:8080/"
        },
        "id": "P2Wkj8vg9gUx",
        "outputId": "33a63692-9548-49ad-eb90-5a86d9b0edb4"
      },
      "execution_count": null,
      "outputs": [
        {
          "output_type": "stream",
          "name": "stdout",
          "text": [
            "4\n",
            "1\n"
          ]
        }
      ]
    },
    {
      "cell_type": "code",
      "source": [
        "#right shift decreases\n",
        "print(8>>1)\n",
        "print(8>>2)\n",
        "print(8>>3)\n",
        "print(8>>4)"
      ],
      "metadata": {
        "colab": {
          "base_uri": "https://localhost:8080/"
        },
        "id": "6OvTqGSO9mCh",
        "outputId": "88c54d95-0d7e-4675-cc5e-14d7ef272f81"
      },
      "execution_count": null,
      "outputs": [
        {
          "output_type": "stream",
          "name": "stdout",
          "text": [
            "4\n",
            "2\n",
            "1\n",
            "0\n"
          ]
        }
      ]
    },
    {
      "cell_type": "code",
      "source": [
        "#left shift increases\n",
        "print(8<<1)\n",
        "print(8<<2)\n",
        "print(8<<3)\n",
        "print(8<<4)"
      ],
      "metadata": {
        "colab": {
          "base_uri": "https://localhost:8080/"
        },
        "id": "_fL2Ar1BFI3f",
        "outputId": "493fe410-f67e-49da-d11b-ce1230cec2db"
      },
      "execution_count": null,
      "outputs": [
        {
          "output_type": "stream",
          "name": "stdout",
          "text": [
            "16\n",
            "32\n",
            "64\n",
            "128\n"
          ]
        }
      ]
    },
    {
      "cell_type": "markdown",
      "source": [
        "## ***ASSIGNMENT OPERATORS***"
      ],
      "metadata": {
        "id": "PJ92wKHXFwos"
      }
    },
    {
      "cell_type": "code",
      "source": [
        "a=8\n",
        "print(a)"
      ],
      "metadata": {
        "colab": {
          "base_uri": "https://localhost:8080/"
        },
        "id": "bHvac_aAFQzy",
        "outputId": "bc9cfaeb-2771-4cbb-bda5-8c8fe0256f84"
      },
      "execution_count": null,
      "outputs": [
        {
          "output_type": "stream",
          "name": "stdout",
          "text": [
            "8\n"
          ]
        }
      ]
    },
    {
      "cell_type": "code",
      "source": [
        "a+=3\n",
        "print(a)"
      ],
      "metadata": {
        "colab": {
          "base_uri": "https://localhost:8080/"
        },
        "id": "bKkgkorpHZu5",
        "outputId": "7d30abd3-4f37-4a49-c139-65ba698dca7d"
      },
      "execution_count": null,
      "outputs": [
        {
          "output_type": "stream",
          "name": "stdout",
          "text": [
            "11\n"
          ]
        }
      ]
    },
    {
      "cell_type": "code",
      "source": [
        "a-=5\n",
        "print(a)"
      ],
      "metadata": {
        "colab": {
          "base_uri": "https://localhost:8080/"
        },
        "id": "7mWhKfDWHdVW",
        "outputId": "36006ac2-2470-4467-f4ca-ce0bce5871e8"
      },
      "execution_count": null,
      "outputs": [
        {
          "output_type": "stream",
          "name": "stdout",
          "text": [
            "6\n"
          ]
        }
      ]
    },
    {
      "cell_type": "code",
      "source": [
        "a*=2\n",
        "print(a)"
      ],
      "metadata": {
        "colab": {
          "base_uri": "https://localhost:8080/"
        },
        "id": "zGPkD-DSHgPm",
        "outputId": "fc3dbe99-475b-496d-bf3f-4c5cd9647dc5"
      },
      "execution_count": null,
      "outputs": [
        {
          "output_type": "stream",
          "name": "stdout",
          "text": [
            "12\n"
          ]
        }
      ]
    },
    {
      "cell_type": "code",
      "source": [
        "a/=3\n",
        "print(a)"
      ],
      "metadata": {
        "colab": {
          "base_uri": "https://localhost:8080/"
        },
        "id": "CCwcuwpOHkYh",
        "outputId": "58181205-4934-40b4-ea42-71995f73f6ee"
      },
      "execution_count": null,
      "outputs": [
        {
          "output_type": "stream",
          "name": "stdout",
          "text": [
            "4.0\n"
          ]
        }
      ]
    },
    {
      "cell_type": "code",
      "source": [
        "a//=2\n",
        "print(a)"
      ],
      "metadata": {
        "colab": {
          "base_uri": "https://localhost:8080/"
        },
        "id": "ILNML64EHtj7",
        "outputId": "50e8f889-6598-4ec7-e722-0a74c1780d23"
      },
      "execution_count": null,
      "outputs": [
        {
          "output_type": "stream",
          "name": "stdout",
          "text": [
            "2.0\n"
          ]
        }
      ]
    },
    {
      "cell_type": "code",
      "source": [
        "a%=2\n",
        "print(a)"
      ],
      "metadata": {
        "colab": {
          "base_uri": "https://localhost:8080/"
        },
        "id": "vMugOGmhHwks",
        "outputId": "70568e4d-466c-4481-a49d-de356f71302a"
      },
      "execution_count": null,
      "outputs": [
        {
          "output_type": "stream",
          "name": "stdout",
          "text": [
            "0.0\n"
          ]
        }
      ]
    },
    {
      "cell_type": "code",
      "source": [
        "a=3\n",
        "a**=2\n",
        "print(a)"
      ],
      "metadata": {
        "colab": {
          "base_uri": "https://localhost:8080/"
        },
        "id": "BGm4qCRgH1OI",
        "outputId": "ee94270f-4627-4a83-8326-ec4408ad1c6f"
      },
      "execution_count": null,
      "outputs": [
        {
          "output_type": "stream",
          "name": "stdout",
          "text": [
            "9\n"
          ]
        }
      ]
    },
    {
      "cell_type": "code",
      "source": [
        "a=9\n",
        "a |= 3\n",
        "print(a)"
      ],
      "metadata": {
        "colab": {
          "base_uri": "https://localhost:8080/"
        },
        "id": "CqvEsjdVIApd",
        "outputId": "17825d0e-5bde-4f6c-a56a-3cdf1923ed20"
      },
      "execution_count": null,
      "outputs": [
        {
          "output_type": "stream",
          "name": "stdout",
          "text": [
            "11\n"
          ]
        }
      ]
    },
    {
      "cell_type": "code",
      "source": [
        "a=9\n",
        "a &= 3\n",
        "print(a)\n"
      ],
      "metadata": {
        "colab": {
          "base_uri": "https://localhost:8080/"
        },
        "id": "g5b1x138IW8w",
        "outputId": "6942f372-9782-4760-f567-630964c759d4"
      },
      "execution_count": null,
      "outputs": [
        {
          "output_type": "stream",
          "name": "stdout",
          "text": [
            "1\n"
          ]
        }
      ]
    },
    {
      "cell_type": "markdown",
      "source": [
        "## ***IDENTITY & MEMBERSHIP OPERATORS***"
      ],
      "metadata": {
        "id": "NJWET8N1I6x-"
      }
    },
    {
      "cell_type": "code",
      "source": [
        "x=[\"john\",\"kevin\"]\n",
        "y=[\"john\",\"kevin\"]\n",
        "z=x\n",
        "z=y\n",
        "#print(z is x) #'is' means equal\n",
        "print(z is not x) #'is not' means not equal\n",
        "print(y is x)\n",
        "print(y is z)\n",
        "#print(z is y)"
      ],
      "metadata": {
        "colab": {
          "base_uri": "https://localhost:8080/"
        },
        "id": "B0I66CTAI3Hu",
        "outputId": "82702826-f6eb-4257-9d5c-0edff5e0c2b4"
      },
      "execution_count": null,
      "outputs": [
        {
          "output_type": "stream",
          "name": "stdout",
          "text": [
            "True\n",
            "False\n",
            "True\n"
          ]
        }
      ]
    },
    {
      "cell_type": "code",
      "source": [
        "x=[\"john\",\"kevin\"]\n",
        "y=[\"john\",\"kevin\"]\n",
        "print(\"john\" in x)  #'in' means john is present in list x\n",
        "print(\"john\" in y)\n",
        "print(\"kev\" not in x)  #'not in' means kev is not present in list x\n",
        "print(\"kevin\" not in y)"
      ],
      "metadata": {
        "colab": {
          "base_uri": "https://localhost:8080/"
        },
        "id": "Bxk3quWkJeRj",
        "outputId": "13fef692-89de-4c33-a370-18dfeae8aecf"
      },
      "execution_count": null,
      "outputs": [
        {
          "output_type": "stream",
          "name": "stdout",
          "text": [
            "True\n",
            "True\n",
            "True\n",
            "False\n"
          ]
        }
      ]
    }
  ]
}