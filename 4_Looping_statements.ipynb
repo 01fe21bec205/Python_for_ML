{
  "nbformat": 4,
  "nbformat_minor": 0,
  "metadata": {
    "colab": {
      "provenance": [],
      "authorship_tag": "ABX9TyM1au03yz+b3l5OIrq8zHkD",
      "include_colab_link": true
    },
    "kernelspec": {
      "name": "python3",
      "display_name": "Python 3"
    },
    "language_info": {
      "name": "python"
    }
  },
  "cells": [
    {
      "cell_type": "markdown",
      "metadata": {
        "id": "view-in-github",
        "colab_type": "text"
      },
      "source": [
        "<a href=\"https://colab.research.google.com/github/01fe21bec205/Python_for_ML/blob/main/4_Looping_statements.ipynb\" target=\"_parent\"><img src=\"https://colab.research.google.com/assets/colab-badge.svg\" alt=\"Open In Colab\"/></a>"
      ]
    },
    {
      "cell_type": "markdown",
      "source": [
        "The looping statements in python are:\n",
        "1. FOR LOOP\n",
        "2. WHILE LOOP\n",
        "3. DO-WHILE LOOP"
      ],
      "metadata": {
        "id": "FdUgFiuBHqct"
      }
    },
    {
      "cell_type": "markdown",
      "source": [
        "## ***WHILE LOOP***"
      ],
      "metadata": {
        "id": "3HolbpXDH0K8"
      }
    },
    {
      "cell_type": "code",
      "execution_count": null,
      "metadata": {
        "colab": {
          "base_uri": "https://localhost:8080/"
        },
        "id": "Z1y1e4AMHPFZ",
        "outputId": "37ce6735-f098-453a-d2e4-0522f0fb07dc"
      },
      "outputs": [
        {
          "output_type": "stream",
          "name": "stdout",
          "text": [
            "enter any number56\n",
            "double digit number\n"
          ]
        }
      ],
      "source": [
        "#WHILE\n",
        "\n",
        "num=int(input(\"enter any number\"))\n",
        "while num<=9:\n",
        "  print(\"single digit number\")\n",
        "  break\n",
        "while num>9 and num<=99:\n",
        "  print(\"double digit number\")\n",
        "  break\n",
        "#else:\n",
        "  #print(\"more than two digits\")\n"
      ]
    },
    {
      "cell_type": "markdown",
      "source": [
        "## ***FOR LOOP***"
      ],
      "metadata": {
        "id": "sRQ9qjlCH4Dg"
      }
    },
    {
      "cell_type": "code",
      "source": [
        "#FOR\n",
        "\n",
        "#for x in range(6):\n",
        "#for x in range(1,6):\n",
        "for x in range(1,25,3):\n",
        "  print(x)"
      ],
      "metadata": {
        "colab": {
          "base_uri": "https://localhost:8080/"
        },
        "id": "DSqzJ2ldHY61",
        "outputId": "80b0389f-a996-4642-bd01-e6840831e2d5"
      },
      "execution_count": null,
      "outputs": [
        {
          "output_type": "stream",
          "name": "stdout",
          "text": [
            "1\n",
            "4\n",
            "7\n",
            "10\n",
            "13\n",
            "16\n",
            "19\n",
            "22\n"
          ]
        }
      ]
    },
    {
      "cell_type": "code",
      "source": [
        "for x in range(5,9):\n",
        "  print(\"single digit\")   #prints 4 times\n",
        "for x in range(10,99,10):\n",
        "  print(\"double digit\")   #prints 9 times"
      ],
      "metadata": {
        "colab": {
          "base_uri": "https://localhost:8080/"
        },
        "id": "hqOWkrb_Hehv",
        "outputId": "53057f73-47ef-4ec0-b565-536f2ec624b0"
      },
      "execution_count": null,
      "outputs": [
        {
          "output_type": "stream",
          "name": "stdout",
          "text": [
            "single digit\n",
            "single digit\n",
            "single digit\n",
            "single digit\n",
            "double digit\n",
            "double digit\n",
            "double digit\n",
            "double digit\n",
            "double digit\n",
            "double digit\n",
            "double digit\n",
            "double digit\n",
            "double digit\n"
          ]
        }
      ]
    },
    {
      "cell_type": "code",
      "source": [
        "places=[\"hubli\",\"haveri\",\"belgaum\",\"blore\"]\n",
        "for x in places:\n",
        "  print(x)\n",
        "  if x==\"blore\":\n",
        "    print(\"found\")"
      ],
      "metadata": {
        "colab": {
          "base_uri": "https://localhost:8080/"
        },
        "id": "BXFfLUXyHj8D",
        "outputId": "4d3eacde-9bc4-4ab4-8b1a-034f2460e0f3"
      },
      "execution_count": null,
      "outputs": [
        {
          "output_type": "stream",
          "name": "stdout",
          "text": [
            "hubli\n",
            "haveri\n",
            "belgaum\n",
            "blore\n",
            "found\n"
          ]
        }
      ]
    },
    {
      "cell_type": "code",
      "source": [],
      "metadata": {
        "id": "Sjlf6RGYIFF0"
      },
      "execution_count": null,
      "outputs": []
    }
  ]
}