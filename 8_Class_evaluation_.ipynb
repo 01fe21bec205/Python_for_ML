{
  "cells": [
    {
      "cell_type": "markdown",
      "metadata": {
        "id": "view-in-github",
        "colab_type": "text"
      },
      "source": [
        "<a href=\"https://colab.research.google.com/github/01fe21bec205/Python_for_ML/blob/main/8_Class_evaluation_.ipynb\" target=\"_parent\"><img src=\"https://colab.research.google.com/assets/colab-badge.svg\" alt=\"Open In Colab\"/></a>"
      ]
    },
    {
      "cell_type": "code",
      "execution_count": null,
      "metadata": {
        "colab": {
          "background_save": true,
          "base_uri": "https://localhost:8080/",
          "height": 140
        },
        "id": "XbYSA2mJkDG1",
        "outputId": "5bc4aaaf-7d6c-4656-dea3-f71ffd982d5c"
      },
      "outputs": [
        {
          "name": "stdout",
          "output_type": "stream",
          "text": [
            "palindrome\n"
          ]
        }
      ],
      "source": [
        "#palindrome\n",
        "def ispalindrome():\n",
        "  return string1==string1[::-1]\n",
        "\n",
        "string1=\"malayalam\"\n",
        "string2=ispalindrome()\n",
        "if(string2):\n",
        "  print(\"palindrome\")\n",
        "else:\n",
        "  print(\"not a palindrome\")"
      ]
    },
    {
      "cell_type": "code",
      "execution_count": null,
      "metadata": {
        "colab": {
          "base_uri": "https://localhost:8080/"
        },
        "id": "L6u4j9n_kYDN",
        "outputId": "f2d98eab-6958-464b-cced-d000fd8202ae"
      },
      "outputs": [
        {
          "output_type": "stream",
          "name": "stdout",
          "text": [
            "enter a num = 29\n",
            "prime\n"
          ]
        }
      ],
      "source": [
        "#prime\n",
        "val=int(input(\"enter a num = \"))\n",
        "flag=0\n",
        "if(((val%val)==0) and ((val%1)==0) and (((val%2)==0) or ((val%3)==0) or (val%5)==0)):\n",
        "  flag=1\n",
        "  if(val%3==0):\n",
        "    print(\"divisible by 3\")\n",
        "  elif(val%7==0):\n",
        "    print(\"divisible by 7\")\n",
        "  elif(val%9==0):\n",
        "    print(\"divisible by 9\")\n",
        "  elif(val%11==0):\n",
        "    print(\"divisible by 11\")\n",
        "  else:\n",
        "    print(\"divisible by other number\")\n",
        "else:\n",
        "  flag=0\n",
        "\n",
        "if(flag==1):\n",
        "  print(\"not a prime\")\n",
        "else:\n",
        "  print(\"prime\")\n"
      ]
    },
    {
      "cell_type": "code",
      "source": [
        "evenlist = []\n",
        "oddlist = []\n",
        "list1 = []\n",
        "\n",
        "for i in range(10):\n",
        "    num = int(input(\"Enter num = \".format(i + 1)))\n",
        "\n",
        "    if num % 2 == 0:\n",
        "        evenlist.append(num)\n",
        "    else:\n",
        "        oddlist.append(num)\n",
        "    list1.append(num)\n",
        "\n",
        "print(\"Original list:\", list1)\n",
        "print(\"Even list:\", evenlist)\n",
        "print(\"Odd list:\", oddlist)\n"
      ],
      "metadata": {
        "colab": {
          "base_uri": "https://localhost:8080/"
        },
        "id": "xtgJXnLqtmeb",
        "outputId": "266ebcd8-c8a3-4c67-f447-5adeef5c70ab"
      },
      "execution_count": null,
      "outputs": [
        {
          "output_type": "stream",
          "name": "stdout",
          "text": [
            "Enter num 1 = 2\n",
            "Enter num 2 = 3\n",
            "Enter num 3 = 4\n",
            "Enter num 4 = 5\n",
            "Enter num 5 = 6\n",
            "Enter num 6 = 7\n",
            "Enter num 7 = 8\n",
            "Enter num 8 = 9\n",
            "Enter num 9 = 11\n",
            "Enter num 10 = 20\n",
            "Original list: [2, 3, 4, 5, 6, 7, 8, 9, 11, 20]\n",
            "Even list: [2, 4, 6, 8, 20]\n",
            "Odd list: [3, 5, 7, 9, 11]\n"
          ]
        }
      ]
    },
    {
      "cell_type": "code",
      "source": [
        "num_rows = int(input(\"Enter the no. of rows: \"))\n",
        "\n",
        "for i in range(1, num_rows + 1):\n",
        "  if(num_rows==4):\n",
        "     print(\"*\" * i)\n"
      ],
      "metadata": {
        "colab": {
          "base_uri": "https://localhost:8080/"
        },
        "id": "q-lt4gvYvNR6",
        "outputId": "c47b83ce-83f7-416f-8bbb-e424aaa97709"
      },
      "execution_count": null,
      "outputs": [
        {
          "output_type": "stream",
          "name": "stdout",
          "text": [
            "Enter the no. of rows: 4\n",
            "*\n",
            "**\n",
            "***\n",
            "****\n"
          ]
        }
      ]
    },
    {
      "cell_type": "code",
      "source": [],
      "metadata": {
        "id": "s0Edin8IwAeW"
      },
      "execution_count": null,
      "outputs": []
    }
  ],
  "metadata": {
    "colab": {
      "provenance": [],
      "authorship_tag": "ABX9TyPvWB9HozvJplM3r8gaK21j",
      "include_colab_link": true
    },
    "kernelspec": {
      "display_name": "Python 3",
      "name": "python3"
    },
    "language_info": {
      "name": "python"
    }
  },
  "nbformat": 4,
  "nbformat_minor": 0
}