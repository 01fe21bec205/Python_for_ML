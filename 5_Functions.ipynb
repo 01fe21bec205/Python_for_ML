{
  "nbformat": 4,
  "nbformat_minor": 0,
  "metadata": {
    "colab": {
      "provenance": [],
      "authorship_tag": "ABX9TyNNG3mtVJVMs2IfFYJbnZ2h",
      "include_colab_link": true
    },
    "kernelspec": {
      "name": "python3",
      "display_name": "Python 3"
    },
    "language_info": {
      "name": "python"
    }
  },
  "cells": [
    {
      "cell_type": "markdown",
      "metadata": {
        "id": "view-in-github",
        "colab_type": "text"
      },
      "source": [
        "<a href=\"https://colab.research.google.com/github/01fe21bec205/Python_for_ML/blob/main/5_Functions.ipynb\" target=\"_parent\"><img src=\"https://colab.research.google.com/assets/colab-badge.svg\" alt=\"Open In Colab\"/></a>"
      ]
    },
    {
      "cell_type": "markdown",
      "source": [
        "## ***FUNCTIONS***"
      ],
      "metadata": {
        "id": "CNuAhedo2Ow1"
      }
    },
    {
      "cell_type": "code",
      "source": [
        "from google.colab import drive\n",
        "drive.mount('/content/drive')"
      ],
      "metadata": {
        "id": "oaMg01U88W2m"
      },
      "execution_count": null,
      "outputs": []
    },
    {
      "cell_type": "code",
      "execution_count": null,
      "metadata": {
        "colab": {
          "base_uri": "https://localhost:8080/"
        },
        "id": "9MYmCIJ62H4L",
        "outputId": "5cebc3f1-610f-48e0-fae8-524232a452fb"
      },
      "outputs": [
        {
          "output_type": "stream",
          "name": "stdout",
          "text": [
            "I am a baker, place ur order\n"
          ]
        }
      ],
      "source": [
        "def cake_baker():\n",
        "  print(\"I am a baker, place ur order\")\n",
        "\n",
        "cake_baker() #invoking the function"
      ]
    },
    {
      "cell_type": "code",
      "source": [
        "def cake_baker(p,f,s):\n",
        "  print(\"number of pieces=\",p)\n",
        "  print(\"flavour of cake=\",f)\n",
        "  print(\"size is=\",s)\n",
        "\n",
        "cake_baker(\"5\",\"pineapple\",\"3kg\")\n",
        "cake_baker(\"3\",\"vanilla\",\"1kg\")"
      ],
      "metadata": {
        "colab": {
          "base_uri": "https://localhost:8080/"
        },
        "id": "EYBdvdGS6ekq",
        "outputId": "fb0f4bac-09eb-4e91-8897-d2bf72e94904"
      },
      "execution_count": null,
      "outputs": [
        {
          "output_type": "stream",
          "name": "stdout",
          "text": [
            "number of pieces= 5\n",
            "flavour of cake= pineapple\n",
            "size is= 3kg\n",
            "number of pieces= 3\n",
            "flavour of cake= vanilla\n",
            "size is= 1kg\n"
          ]
        }
      ]
    },
    {
      "cell_type": "markdown",
      "source": [
        "## ***ARGS & KWARGS***"
      ],
      "metadata": {
        "id": "qJKkFBf07WIA"
      }
    },
    {
      "cell_type": "code",
      "source": [
        "#args\n",
        "\n",
        "def add(*args):  #can also use 'def add(*bunch)' ie can use any name after *\n",
        "  sum=0\n",
        "  for i in args:\n",
        "    sum +=i\n",
        "  return sum\n",
        "\n",
        "#print(add(1,7))  #number of arguments can be any\n",
        "print(add(1,7,4,3,55))"
      ],
      "metadata": {
        "colab": {
          "base_uri": "https://localhost:8080/"
        },
        "id": "lRjO1hAp7FHW",
        "outputId": "0c1c5430-284b-43ec-976d-e0a415ff28e3"
      },
      "execution_count": null,
      "outputs": [
        {
          "output_type": "stream",
          "name": "stdout",
          "text": [
            "70\n"
          ]
        }
      ]
    },
    {
      "cell_type": "code",
      "source": [
        "#kwargs\n",
        "\n",
        "def greet(**kwargs):\n",
        "  print(\"Hello\",end=\" \")\n",
        "  for key,value in kwargs.items():\n",
        "    #print(value)\n",
        "    print(value, end=\" \")\n",
        "\n",
        "greet(name=\"Safa\", usn=\"01FE21BEC2XX\",branch=\"ECE\")\n",
        "\n"
      ],
      "metadata": {
        "colab": {
          "base_uri": "https://localhost:8080/"
        },
        "id": "RcPXpbah7p_J",
        "outputId": "5e1b3883-ba7c-486f-916d-6dacb8872432"
      },
      "execution_count": null,
      "outputs": [
        {
          "output_type": "stream",
          "name": "stdout",
          "text": [
            "Hello Safa 01FE21BEC2XX ECE "
          ]
        }
      ]
    },
    {
      "cell_type": "code",
      "source": [],
      "metadata": {
        "id": "1Tlx8XJV2y0D"
      },
      "execution_count": null,
      "outputs": []
    }
  ]
}