{
  "nbformat": 4,
  "nbformat_minor": 0,
  "metadata": {
    "colab": {
      "provenance": [],
      "authorship_tag": "ABX9TyNirO6g/QMdKPEvORT2pLNY",
      "include_colab_link": true
    },
    "kernelspec": {
      "name": "python3",
      "display_name": "Python 3"
    },
    "language_info": {
      "name": "python"
    }
  },
  "cells": [
    {
      "cell_type": "markdown",
      "metadata": {
        "id": "view-in-github",
        "colab_type": "text"
      },
      "source": [
        "<a href=\"https://colab.research.google.com/github/01fe21bec205/Python_for_ML/blob/main/2_Conditional_statements.ipynb\" target=\"_parent\"><img src=\"https://colab.research.google.com/assets/colab-badge.svg\" alt=\"Open In Colab\"/></a>"
      ]
    },
    {
      "cell_type": "markdown",
      "source": [
        "Under conditional statements, we have:\n",
        "1. if statements\n",
        "2. else statements\n",
        "3. elif (else-if) statements"
      ],
      "metadata": {
        "id": "CIJLKl-IFRGk"
      }
    },
    {
      "cell_type": "markdown",
      "source": [
        "## ***IF/ELSE STATEMENTS***"
      ],
      "metadata": {
        "id": "YpLoxg0kFnmq"
      }
    },
    {
      "cell_type": "code",
      "execution_count": null,
      "metadata": {
        "id": "eyYGJ_JxFIvr"
      },
      "outputs": [],
      "source": [
        "a=input(\"Enter value for a\")\n",
        "b=input(\"Enter value for b\")\n",
        "print(a)\n",
        "print(b)\n",
        "\n",
        "if(a>b):\n",
        "  print(\"a greater than b\")\n",
        "else:\n",
        "  print(\"b greater than a\")\n"
      ]
    },
    {
      "cell_type": "markdown",
      "source": [
        "## ***ELIF STATEMENTS***"
      ],
      "metadata": {
        "id": "uMrd2zClFvZR"
      }
    },
    {
      "cell_type": "code",
      "source": [
        "ball1=\"red\"\n",
        "ball2=\"green\"\n",
        "ball3=\"yellow\"\n",
        "ball4=\"pink\"\n",
        "\n",
        "pick=input(\"pick a ball\")\n",
        "\n",
        "if(pick==ball1):\n",
        "  print(\"ball is red\")\n",
        "elif(pick==ball2):\n",
        "  print(\"ball is green\")\n",
        "elif(pick==ball3):\n",
        "  print(\"ball is yellow\")\n",
        "else:\n",
        "  print(\"ball is pink\")"
      ],
      "metadata": {
        "id": "je037L2hFjox"
      },
      "execution_count": null,
      "outputs": []
    }
  ]
}