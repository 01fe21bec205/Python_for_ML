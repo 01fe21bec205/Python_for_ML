{
  "nbformat": 4,
  "nbformat_minor": 0,
  "metadata": {
    "colab": {
      "provenance": [],
      "authorship_tag": "ABX9TyPRkYwiZPlwj1PXNpcOP/3U",
      "include_colab_link": true
    },
    "kernelspec": {
      "name": "python3",
      "display_name": "Python 3"
    },
    "language_info": {
      "name": "python"
    }
  },
  "cells": [
    {
      "cell_type": "markdown",
      "metadata": {
        "id": "view-in-github",
        "colab_type": "text"
      },
      "source": [
        "<a href=\"https://colab.research.google.com/github/01fe21bec205/Python_for_ML/blob/main/1_Variable_Declaration.ipynb\" target=\"_parent\"><img src=\"https://colab.research.google.com/assets/colab-badge.svg\" alt=\"Open In Colab\"/></a>"
      ]
    },
    {
      "cell_type": "markdown",
      "source": [
        "## ***BASIC FIRST PROGRAM***"
      ],
      "metadata": {
        "id": "lQHL68E1uIOh"
      }
    },
    {
      "cell_type": "code",
      "source": [
        "print (\"i am safa\")"
      ],
      "metadata": {
        "colab": {
          "base_uri": "https://localhost:8080/"
        },
        "id": "0NJLf6NJBJaU",
        "outputId": "d44b70dc-eb7c-4470-c484-d2630f57eb89"
      },
      "execution_count": null,
      "outputs": [
        {
          "output_type": "stream",
          "name": "stdout",
          "text": [
            "i am safa\n"
          ]
        }
      ]
    },
    {
      "cell_type": "markdown",
      "source": [
        "## ***ASSIGNMENT***"
      ],
      "metadata": {
        "id": "b79ZL-QsEYPy"
      }
    },
    {
      "cell_type": "code",
      "source": [
        "a=9\n",
        "b=3\n",
        "diff=a-b\n",
        "print(diff)\n",
        "c=1\n",
        "diff1=a-b-c\n",
        "print(diff1)"
      ],
      "metadata": {
        "colab": {
          "base_uri": "https://localhost:8080/"
        },
        "id": "-EMoxvHXCDYk",
        "outputId": "4871d4f1-69f7-454c-d3e5-50e3e92a114c"
      },
      "execution_count": null,
      "outputs": [
        {
          "output_type": "stream",
          "name": "stdout",
          "text": [
            "6\n",
            "5\n"
          ]
        }
      ]
    },
    {
      "cell_type": "code",
      "source": [
        "a=5\n",
        "p=a*a\n",
        "print(p)\n",
        "b=10\n",
        "p1=a*b\n",
        "print(p1)"
      ],
      "metadata": {
        "colab": {
          "base_uri": "https://localhost:8080/"
        },
        "id": "buUgfbMFDvnH",
        "outputId": "5f201737-4ad4-4d03-8b86-13377d63f1ba"
      },
      "execution_count": null,
      "outputs": [
        {
          "output_type": "stream",
          "name": "stdout",
          "text": [
            "25\n",
            "50\n"
          ]
        }
      ]
    },
    {
      "cell_type": "code",
      "source": [
        "a=40\n",
        "b=6\n",
        "q=a/b\n",
        "print(q)"
      ],
      "metadata": {
        "colab": {
          "base_uri": "https://localhost:8080/"
        },
        "id": "Zucj6k27EtfW",
        "outputId": "cd5c614d-e03a-44f6-9a2f-f5ec1ba19d25"
      },
      "execution_count": null,
      "outputs": [
        {
          "output_type": "stream",
          "name": "stdout",
          "text": [
            "6.666666666666667\n"
          ]
        }
      ]
    },
    {
      "cell_type": "code",
      "source": [
        "import math\n",
        "a=81\n",
        "print(math.sqrt(a))"
      ],
      "metadata": {
        "colab": {
          "base_uri": "https://localhost:8080/"
        },
        "id": "Vwm4I2avFSIL",
        "outputId": "1f9f6359-98fe-4919-cd22-3172c6fa11b9"
      },
      "execution_count": null,
      "outputs": [
        {
          "output_type": "stream",
          "name": "stdout",
          "text": [
            "9.0\n"
          ]
        }
      ]
    },
    {
      "cell_type": "markdown",
      "source": [
        "## ***DATA TYPES***"
      ],
      "metadata": {
        "id": "SjxiSr-sEinv"
      }
    },
    {
      "cell_type": "code",
      "source": [
        "name=\"safa\"\n",
        "print(type(name))\n",
        "name1=\"safa 2309\"\n",
        "print(type(name1))"
      ],
      "metadata": {
        "id": "PC2aOiG1FnI1",
        "colab": {
          "base_uri": "https://localhost:8080/"
        },
        "outputId": "2edb7a14-c7f4-4d26-ce8a-e4bd4785dcca"
      },
      "execution_count": null,
      "outputs": [
        {
          "output_type": "stream",
          "name": "stdout",
          "text": [
            "<class 'str'>\n",
            "<class 'str'>\n"
          ]
        }
      ]
    },
    {
      "cell_type": "code",
      "source": [
        "num1=88\n",
        "num2=78.0098\n",
        "num3=4j\n",
        "num4= -998\n",
        "print(type(num1))\n",
        "print(type(num2))\n",
        "print(type(num3))\n",
        "print(type(num4))"
      ],
      "metadata": {
        "colab": {
          "base_uri": "https://localhost:8080/"
        },
        "id": "NTfMQFVopASk",
        "outputId": "1b3eda51-dfc8-4b75-8a6b-e7afdc34a26b"
      },
      "execution_count": null,
      "outputs": [
        {
          "output_type": "stream",
          "name": "stdout",
          "text": [
            "<class 'int'>\n",
            "<class 'float'>\n",
            "<class 'complex'>\n",
            "<class 'int'>\n"
          ]
        }
      ]
    },
    {
      "cell_type": "markdown",
      "source": [
        "## ***SEQUENCE DATA TYPES***"
      ],
      "metadata": {
        "id": "sFS5nIDAptnf"
      }
    },
    {
      "cell_type": "markdown",
      "source": [
        "### **LIST**"
      ],
      "metadata": {
        "id": "mre5Vbexh5I_"
      }
    },
    {
      "cell_type": "code",
      "source": [
        "lis=['safa', '23', '22.99']\n",
        "print(type(lis))\n",
        "print(lis)"
      ],
      "metadata": {
        "colab": {
          "base_uri": "https://localhost:8080/"
        },
        "id": "HdnzsBR8pmH9",
        "outputId": "81a5f1bc-49ee-4cad-dfe1-284b61c43d4c"
      },
      "execution_count": null,
      "outputs": [
        {
          "output_type": "stream",
          "name": "stdout",
          "text": [
            "<class 'list'>\n",
            "['safa', '23', '22.99']\n"
          ]
        }
      ]
    },
    {
      "cell_type": "code",
      "source": [
        "lis2=['happy','sad','scared','tired']\n",
        "print(len(lis))\n",
        "print(len(lis2))\n",
        "lis3=lis+lis2\n",
        "print(lis3)\n",
        "print(len(lis3))"
      ],
      "metadata": {
        "colab": {
          "base_uri": "https://localhost:8080/"
        },
        "id": "r8cZn0R-qIZ5",
        "outputId": "b596b80b-3f9b-46aa-8467-8ba62bad19e7"
      },
      "execution_count": null,
      "outputs": [
        {
          "output_type": "stream",
          "name": "stdout",
          "text": [
            "3\n",
            "4\n",
            "['safa', '23', '22.99', 'happy', 'sad', 'scared', 'tired']\n",
            "7\n"
          ]
        }
      ]
    },
    {
      "cell_type": "code",
      "source": [
        "lis2.append(\"anxious\")\n",
        "lis2"
      ],
      "metadata": {
        "colab": {
          "base_uri": "https://localhost:8080/"
        },
        "id": "y0Rw15ZLqlun",
        "outputId": "999b1987-08d5-4f9c-ffb0-74b81bcd7a52"
      },
      "execution_count": null,
      "outputs": [
        {
          "output_type": "execute_result",
          "data": {
            "text/plain": [
              "['happy', 'sad', 'scared', 'tired', 'anxious']"
            ]
          },
          "metadata": {},
          "execution_count": 10
        }
      ]
    },
    {
      "cell_type": "code",
      "source": [
        "lis2.clear()\n",
        "lis2"
      ],
      "metadata": {
        "colab": {
          "base_uri": "https://localhost:8080/"
        },
        "id": "qfnu6XjqrJvJ",
        "outputId": "fe6f8d8c-437d-45c0-d4d9-87b7b6f87911"
      },
      "execution_count": null,
      "outputs": [
        {
          "output_type": "execute_result",
          "data": {
            "text/plain": [
              "[]"
            ]
          },
          "metadata": {},
          "execution_count": 12
        }
      ]
    },
    {
      "cell_type": "code",
      "source": [
        "lis4=['ww','ee','ss','dd']\n",
        "lis4.sort()\n",
        "lis4"
      ],
      "metadata": {
        "colab": {
          "base_uri": "https://localhost:8080/"
        },
        "id": "thSkyxpbrUJ9",
        "outputId": "40a90af9-4d7d-4083-84e0-7d79f7df11b7"
      },
      "execution_count": null,
      "outputs": [
        {
          "output_type": "execute_result",
          "data": {
            "text/plain": [
              "['dd', 'ee', 'ss', 'ww']"
            ]
          },
          "metadata": {},
          "execution_count": 13
        }
      ]
    },
    {
      "cell_type": "code",
      "source": [
        "lis4[0]\n"
      ],
      "metadata": {
        "colab": {
          "base_uri": "https://localhost:8080/",
          "height": 36
        },
        "id": "_y5mT873rksp",
        "outputId": "ed453a55-3310-43e4-c74b-8f8e92c6f249"
      },
      "execution_count": null,
      "outputs": [
        {
          "output_type": "execute_result",
          "data": {
            "text/plain": [
              "'dd'"
            ],
            "application/vnd.google.colaboratory.intrinsic+json": {
              "type": "string"
            }
          },
          "metadata": {},
          "execution_count": 15
        }
      ]
    },
    {
      "cell_type": "code",
      "source": [
        "lis3[2]"
      ],
      "metadata": {
        "colab": {
          "base_uri": "https://localhost:8080/",
          "height": 36
        },
        "id": "Nxu6lOJ0rpy0",
        "outputId": "f34ca77e-f2f4-4fc0-e984-fb4bfe292d5c"
      },
      "execution_count": null,
      "outputs": [
        {
          "output_type": "execute_result",
          "data": {
            "text/plain": [
              "'22.99'"
            ],
            "application/vnd.google.colaboratory.intrinsic+json": {
              "type": "string"
            }
          },
          "metadata": {},
          "execution_count": 16
        }
      ]
    },
    {
      "cell_type": "code",
      "source": [
        "lis6=['safa','23']\n",
        "lis6.sort()\n",
        "lis6"
      ],
      "metadata": {
        "colab": {
          "base_uri": "https://localhost:8080/"
        },
        "id": "TQpFW3I6rw2v",
        "outputId": "0da64dfc-61f2-4a18-f904-bbe073cb4e12"
      },
      "execution_count": null,
      "outputs": [
        {
          "output_type": "execute_result",
          "data": {
            "text/plain": [
              "['23', 'safa']"
            ]
          },
          "metadata": {},
          "execution_count": 4
        }
      ]
    },
    {
      "cell_type": "markdown",
      "source": [
        "### **TUPLE**"
      ],
      "metadata": {
        "id": "zFWpx7j8iBL7"
      }
    },
    {
      "cell_type": "code",
      "source": [
        "tuple1=(\"hello\",\"hi\",\"go\") #store char\n",
        "print(type(tuple1))\n",
        "tuple1\n",
        "tuple2=(\"goa\",) #store char\n",
        "print(type(tuple2))\n",
        "tuple3=(1,2,3,4,5)\n",
        "print(type(tuple3)) #store numbers\n",
        "tuple4=(\"thai\",\"chinese\",\"12\",1,4,544,True) #store multidatatypes\n",
        "print(type(tuple4))\n",
        "tuple5=tuple((1,2,3,4,5,6,7,8,9))\n",
        "print(type(tuple5))"
      ],
      "metadata": {
        "colab": {
          "base_uri": "https://localhost:8080/"
        },
        "id": "cCgxtskwg6Tx",
        "outputId": "dee40f8c-84d1-4986-9183-ca24bd069e06"
      },
      "execution_count": null,
      "outputs": [
        {
          "output_type": "stream",
          "name": "stdout",
          "text": [
            "<class 'tuple'>\n",
            "<class 'tuple'>\n",
            "<class 'tuple'>\n",
            "<class 'tuple'>\n",
            "<class 'tuple'>\n"
          ]
        }
      ]
    },
    {
      "cell_type": "code",
      "source": [
        "tuple1=(\"hello\",\"hi\",\"go\")\n",
        "print(tuple1[0])\n",
        "print(tuple1[1])\n",
        "print(tuple1[2])\n",
        "print(tuple1[-1])\n",
        "tuple6=tuple3+tuple1\n",
        "print(tuple6)\n",
        "tuple7=tuple6*2\n",
        "print(tuple7)\n",
        "y=tuple7.index(\"hello\")\n",
        "a=tuple6.index(\"hello\")\n",
        "print(y)\n",
        "print(a)\n",
        "x=tuple7.count(\"hi\")\n",
        "b=tuple6.count(\"go\")\n",
        "print(b)\n",
        "print(x)"
      ],
      "metadata": {
        "colab": {
          "base_uri": "https://localhost:8080/"
        },
        "id": "dr1EQM4-iQwq",
        "outputId": "fe28f47a-ef3a-4a60-aaed-e5d7055aec95"
      },
      "execution_count": null,
      "outputs": [
        {
          "output_type": "stream",
          "name": "stdout",
          "text": [
            "hello\n",
            "hi\n",
            "go\n",
            "go\n",
            "(1, 2, 3, 4, 5, 'hello', 'hi', 'go')\n",
            "(1, 2, 3, 4, 5, 'hello', 'hi', 'go', 1, 2, 3, 4, 5, 'hello', 'hi', 'go')\n",
            "5\n",
            "5\n",
            "1\n",
            "2\n"
          ]
        }
      ]
    },
    {
      "cell_type": "code",
      "source": [
        "r=(\"yes\",\"no\",\"idk\")\n",
        "print(type(r))\n",
        "u=list(r)\n",
        "#u[1]=\"never\"\n",
        "u.append(\"remain\")\n",
        "r=tuple(u)\n",
        "print(u)\n"
      ],
      "metadata": {
        "colab": {
          "base_uri": "https://localhost:8080/"
        },
        "id": "5rUubklQj25N",
        "outputId": "0c176796-3635-40c6-b447-07be8c48f1dd"
      },
      "execution_count": null,
      "outputs": [
        {
          "output_type": "stream",
          "name": "stdout",
          "text": [
            "<class 'tuple'>\n",
            "['yes', 'no', 'idk', 'remain']\n"
          ]
        }
      ]
    },
    {
      "cell_type": "markdown",
      "source": [
        "### **SETS**"
      ],
      "metadata": {
        "id": "OSmjyXl_pQVX"
      }
    },
    {
      "cell_type": "code",
      "source": [
        "set1={\"rose\",\"orchid\",\"jasmin\",\"tulip\"}\n",
        "print(set1)\n",
        "set1.add(\"lotus\")\n",
        "print(set1)\n",
        "set2={\"vase\",\"bowl\",\"grass\",\"utensil\"}\n",
        "set2.update(set1) #set1.update(set2)\n",
        "print(set2)"
      ],
      "metadata": {
        "colab": {
          "base_uri": "https://localhost:8080/"
        },
        "id": "vmPuaWuYnCWF",
        "outputId": "26cf7177-e29c-4bb5-cd96-41570b512a2b"
      },
      "execution_count": null,
      "outputs": [
        {
          "output_type": "stream",
          "name": "stdout",
          "text": [
            "{'orchid', 'rose', 'tulip', 'jasmin'}\n",
            "{'orchid', 'tulip', 'jasmin', 'lotus', 'rose'}\n",
            "{'bowl', 'vase', 'utensil', 'orchid', 'tulip', 'grass', 'jasmin', 'lotus', 'rose'}\n"
          ]
        }
      ]
    },
    {
      "cell_type": "markdown",
      "source": [
        "### **DICTIONARY**"
      ],
      "metadata": {
        "id": "u71H88qCtZ5l"
      }
    },
    {
      "cell_type": "code",
      "source": [
        "dict1={\"First Name\": \"Safa\",\n",
        "       \"Last Name\": \"Sayyad\",\n",
        "       \"Age\":\"20\",\n",
        "       \"Gender\": \"Female\"}\n",
        "print(type(dict1))\n",
        "print(dict1)"
      ],
      "metadata": {
        "colab": {
          "base_uri": "https://localhost:8080/"
        },
        "id": "Q28_S9UMpu0j",
        "outputId": "822dc29d-5e2c-40fd-8a01-51dac3c11a22"
      },
      "execution_count": null,
      "outputs": [
        {
          "output_type": "stream",
          "name": "stdout",
          "text": [
            "<class 'dict'>\n",
            "{'First Name': 'Safa', 'Last Name': 'Sayyad', 'Age': '20', 'Gender': 'Female'}\n"
          ]
        }
      ]
    },
    {
      "cell_type": "code",
      "source": [
        "dict2=dict(course=\"ML\", branch=\"ECE\")\n",
        "print(type(dict2))\n",
        "print(dict2)"
      ],
      "metadata": {
        "colab": {
          "base_uri": "https://localhost:8080/"
        },
        "id": "STVcBGqXuwxA",
        "outputId": "8619e486-2ce1-4558-8128-2797a0df324c"
      },
      "execution_count": null,
      "outputs": [
        {
          "output_type": "stream",
          "name": "stdout",
          "text": [
            "<class 'dict'>\n",
            "{'course': 'ML', 'branch': 'ECE'}\n"
          ]
        }
      ]
    }
  ]
}